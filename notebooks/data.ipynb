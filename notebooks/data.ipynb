{
 "cells": [
  {
   "cell_type": "code",
   "execution_count": 1,
   "metadata": {},
   "outputs": [],
   "source": [
    "import pandas as pd"
   ]
  },
  {
   "cell_type": "code",
   "execution_count": 2,
   "metadata": {},
   "outputs": [],
   "source": [
    "df = pd.read_csv(\"../data/final_dataset.csv\")"
   ]
  },
  {
   "cell_type": "code",
   "execution_count": 3,
   "metadata": {},
   "outputs": [],
   "source": [
    "df['DateTime'] = pd.to_datetime(df['Date'] + ' ' + df['Time'], format='%d/%m/%Y %H:%M:%S')\n",
    "\n",
    "# Setting the Date_Time as index\n",
    "df.set_index('DateTime', inplace=True)\n",
    "\n"
   ]
  },
  {
   "cell_type": "code",
   "execution_count": 15,
   "metadata": {},
   "outputs": [],
   "source": [
    "df1 = df.iloc[0: 5000].copy()"
   ]
  },
  {
   "cell_type": "code",
   "execution_count": 5,
   "metadata": {},
   "outputs": [],
   "source": [
    "grouped = df.groupby([df.index.floor('h'), 'Classroom Type'])"
   ]
  },
  {
   "cell_type": "code",
   "execution_count": 8,
   "metadata": {},
   "outputs": [],
   "source": [
    "groups = [group for _, group in grouped]"
   ]
  },
  {
   "cell_type": "code",
   "execution_count": 9,
   "metadata": {},
   "outputs": [
    {
     "name": "stdout",
     "output_type": "stream",
     "text": [
      "                           Date     Time             Classroom Type\n",
      "DateTime                                                           \n",
      "2023-02-15 08:00:11  15/02/2023  8:00:11  Container With Insulation\n",
      "2023-02-15 08:00:57  15/02/2023  8:00:57  Container With Insulation\n",
      "2023-02-15 08:01:44  15/02/2023  8:01:44  Container With Insulation\n",
      "2023-02-15 08:02:30  15/02/2023  8:02:30  Container With Insulation\n",
      "2023-02-15 08:03:16  15/02/2023  8:03:16  Container With Insulation\n",
      "...                         ...      ...                        ...\n",
      "2023-02-15 08:55:44  15/02/2023  8:55:44  Container With Insulation\n",
      "2023-02-15 08:56:31  15/02/2023  8:56:31  Container With Insulation\n",
      "2023-02-15 08:57:17  15/02/2023  8:57:17  Container With Insulation\n",
      "2023-02-15 08:58:04  15/02/2023  8:58:04  Container With Insulation\n",
      "2023-02-15 08:58:50  15/02/2023  8:58:50  Container With Insulation\n",
      "\n",
      "[76 rows x 3 columns]\n",
      "                           Date     Time      Classroom Type\n",
      "DateTime                                                    \n",
      "2023-02-15 09:17:16  15/02/2023  9:17:16  Brick Second Floor\n",
      "2023-02-15 09:40:59  15/02/2023  9:40:59  Brick Second Floor\n",
      "                           Date     Time           Classroom Type\n",
      "DateTime                                                         \n",
      "2023-02-15 09:20:25  15/02/2023  9:20:25  Container No Insulation\n",
      "2023-02-15 09:43:18  15/02/2023  9:43:18  Container No Insulation\n"
     ]
    }
   ],
   "source": [
    "for group in groups[99:102]:\n",
    "    print(group[['Date', \"Time\", \"Classroom Type\"]])"
   ]
  },
  {
   "cell_type": "code",
   "execution_count": 10,
   "metadata": {},
   "outputs": [
    {
     "data": {
      "text/plain": [
       "Index(['Date', 'Time', 'Classroom Type', 'Classroom Category', 'Room No',\n",
       "       'Device Code', 'School No', 'Grade', 'Measured T', 'Measured RH',\n",
       "       'Measured CO2', 'Measured PM1.0', 'Measured PM2.5', 'Measured PM10',\n",
       "       'School Day', 'School Hours', 'Break Time', 'Power On',\n",
       "       'Outdoor Temperature', 'TmStamp', 'TrackerWM_Avg', 'Tracker2WM_Avg',\n",
       "       'ShadowWM_Avg', 'SunWM_Avg', 'ShadowbandWM_Avg', 'DNICalc_Avg',\n",
       "       'AirTC_Avg', 'RH', 'WS_ms_S_WVT', 'WindDir_D1_WVT', 'WindDir_SD1_WVT',\n",
       "       'BP_mB_Avg', 'UVA_Avg', 'UVB_Avg', 'BattV_Min', 'Batt24V_Min'],\n",
       "      dtype='object')"
      ]
     },
     "execution_count": 10,
     "metadata": {},
     "output_type": "execute_result"
    }
   ],
   "source": [
    "df.columns"
   ]
  },
  {
   "cell_type": "code",
   "execution_count": 11,
   "metadata": {},
   "outputs": [
    {
     "name": "stdout",
     "output_type": "stream",
     "text": [
      "['Date', 'Time', 'TmStamp', 'Classroom Type']\n",
      "['Room No', 'Device Code', 'School No', 'Grade', 'School Day', 'School Hours', 'Break Time', 'Power On']\n",
      "['ShadowbandWM_Avg', 'Measured PM1.0', 'TrackerWM_Avg', 'Measured PM10', 'Batt24V_Min', 'AirTC_Avg', 'Outdoor Temperature', 'WindDir_D1_WVT', 'BattV_Min', 'BP_mB_Avg', 'Measured T', 'Measured PM2.5', 'SunWM_Avg', 'ShadowWM_Avg', 'Tracker2WM_Avg', 'Measured CO2', 'RH', 'WS_ms_S_WVT', 'WindDir_SD1_WVT', 'Measured RH', 'UVA_Avg', 'Classroom Category', 'DNICalc_Avg', 'UVB_Avg']\n"
     ]
    }
   ],
   "source": [
    "ignore_cols = [\n",
    "    \"Date\",\n",
    "    \"Time\",\n",
    "    \"TmStamp\",\n",
    "    \"Classroom Type\"\n",
    "]\n",
    "\n",
    "cat_cols = [\n",
    "    \"Room No\",\n",
    "    \"Device Code\",\n",
    "    \"School No\",\n",
    "    \"Grade\",\n",
    "    \"School Day\",\n",
    "    \"School Hours\",\n",
    "    \"Break Time\",\n",
    "    \"Power On\"\n",
    "]\n",
    "\n",
    "cont_cols = list(set(list(df.columns)) - set(ignore_cols) - set(cat_cols))\n",
    "\n",
    "print(ignore_cols)\n",
    "print(cat_cols)\n",
    "print(cont_cols)"
   ]
  },
  {
   "cell_type": "code",
   "execution_count": null,
   "metadata": {},
   "outputs": [],
   "source": [
    "def flatten_aggregate(group):\n",
    "    aggregation = {}\n",
    "\n",
    "    for col in group.columns:\n",
    "        if col in ignore_cols:\n",
    "            aggregation[col] = group[col].values[-1]\n",
    "        elif col in cat_cols:\n",
    "            aggregation[col] = group[col].mode()[0]  # Most frequent\n",
    "        elif col in cont_cols:\n",
    "            aggregation[f'{col}_mean'] = group[col].mean()\n",
    "            aggregation[f'{col}_min'] = group[col].min()\n",
    "            aggregation[f'{col}_max'] = group[col].max()\n",
    "        else:\n",
    "            print(\"Oops : \", col)\n",
    "             \n",
    "    return pd.Series(aggregation)"
   ]
  }
 ],
 "metadata": {
  "kernelspec": {
   "display_name": ".venv",
   "language": "python",
   "name": "python3"
  },
  "language_info": {
   "codemirror_mode": {
    "name": "ipython",
    "version": 3
   },
   "file_extension": ".py",
   "mimetype": "text/x-python",
   "name": "python",
   "nbconvert_exporter": "python",
   "pygments_lexer": "ipython3",
   "version": "3.9.16"
  }
 },
 "nbformat": 4,
 "nbformat_minor": 2
}
