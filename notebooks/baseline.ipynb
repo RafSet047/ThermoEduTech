{
 "cells": [
  {
   "cell_type": "code",
   "execution_count": 14,
   "id": "e1e8e9ab",
   "metadata": {},
   "outputs": [],
   "source": [
    "# !source ../setup.sh"
   ]
  },
  {
   "cell_type": "code",
   "id": "58c00addc65c662e",
   "metadata": {
    "ExecuteTime": {
     "end_time": "2024-07-26T12:46:11.106677Z",
     "start_time": "2024-07-26T12:46:00.518287Z"
    }
   },
   "source": [
    "import os\n",
    "import sys\n",
    "import warnings\n",
    "import numpy as np\n",
    "import pandas as pd\n",
    "import xgboost as xgb\n",
    "from utils import DataWrapper, Visualizer\n",
    "from src.prepare_dataset import prepare_data\n",
    "from sklearn.ensemble import RandomForestRegressor\n",
    "from sklearn.metrics import mean_squared_error, r2_score\n",
    "# from src.models.baseline.tree_models import XGBoost, LightGBM\n",
    "# from src.models.baseline.baseline_models import LinearModel, KNN, SVM, DecisionTree, RandomForest\n",
    "sys.path.append(os.path.dirname(os.getcwd()))\n",
    "warnings.filterwarnings(\"ignore\")"
   ],
   "outputs": [
    {
     "name": "stderr",
     "output_type": "stream",
     "text": [
      "Matplotlib is building the font cache; this may take a moment.\n"
     ]
    }
   ],
   "execution_count": 2
  },
  {
   "cell_type": "code",
   "id": "6fb139a75c2990cc",
   "metadata": {
    "ExecuteTime": {
     "end_time": "2024-07-26T12:46:20.766772Z",
     "start_time": "2024-07-26T12:46:14.659854Z"
    }
   },
   "source": [
    "prepare_data(\"../data/final_dataset.csv\", \"./tmp\")"
   ],
   "outputs": [
    {
     "name": "stdout",
     "output_type": "stream",
     "text": [
      "../data/final_dataset.csv\n"
     ]
    },
    {
     "name": "stderr",
     "output_type": "stream",
     "text": [
      "\u001B[32m2024-07-26 08:46:15.983\u001B[0m | \u001B[1mINFO    \u001B[0m | \u001B[36msrc.prepare_dataset\u001B[0m:\u001B[36mprepare_data\u001B[0m:\u001B[36m31\u001B[0m - \u001B[1mDropped the unnecessary columns\u001B[0m\n",
      "\u001B[32m2024-07-26 08:46:15.984\u001B[0m | \u001B[1mINFO    \u001B[0m | \u001B[36msrc.prepare_dataset\u001B[0m:\u001B[36mprepare_data\u001B[0m:\u001B[36m36\u001B[0m - \u001B[1mDataset size BEFORE dropping the rows by date: 372084\u001B[0m\n",
      "\u001B[32m2024-07-26 08:46:16.619\u001B[0m | \u001B[1mINFO    \u001B[0m | \u001B[36msrc.prepare_dataset\u001B[0m:\u001B[36mprepare_data\u001B[0m:\u001B[36m38\u001B[0m - \u001B[1mDataset size AFTER dropping the rows by date: 369697\u001B[0m\n",
      "\u001B[32m2024-07-26 08:46:16.823\u001B[0m | \u001B[1mINFO    \u001B[0m | \u001B[36msrc.prepare_dataset\u001B[0m:\u001B[36mprepare_data\u001B[0m:\u001B[36m56\u001B[0m - \u001B[1mOverall encoded 5 cateforical features\u001B[0m\n",
      "\u001B[32m2024-07-26 08:46:16.823\u001B[0m | \u001B[1mINFO    \u001B[0m | \u001B[36msrc.prepare_dataset\u001B[0m:\u001B[36mprepare_data\u001B[0m:\u001B[36m57\u001B[0m - \u001B[1m['school_hours', 'school_day', 'break_time', 'classroom_type', 'power_on']\u001B[0m\n",
      "\u001B[32m2024-07-26 08:46:17.360\u001B[0m | \u001B[1mINFO    \u001B[0m | \u001B[36msrc.prepare_dataset\u001B[0m:\u001B[36mprepare_data\u001B[0m:\u001B[36m79\u001B[0m - \u001B[1mFilled the missing values of variables\u001B[0m\n",
      "\u001B[32m2024-07-26 08:46:17.371\u001B[0m | \u001B[1mINFO    \u001B[0m | \u001B[36msrc.prepare_dataset\u001B[0m:\u001B[36mprepare_data\u001B[0m:\u001B[36m81\u001B[0m - \u001B[1mSliced the data into train, valid, test splits with the proportion: \u001B[0m\n",
      "\u001B[32m2024-07-26 08:46:17.422\u001B[0m | \u001B[1mINFO    \u001B[0m | \u001B[36msrc.prepare_dataset\u001B[0m:\u001B[36mprepare_data\u001B[0m:\u001B[36m85\u001B[0m - \u001B[1mApplied the MinMaxScaler to the dataset\u001B[0m\n",
      "\u001B[32m2024-07-26 08:46:17.423\u001B[0m | \u001B[1mINFO    \u001B[0m | \u001B[36msrc.prepare_dataset\u001B[0m:\u001B[36mprepare_data\u001B[0m:\u001B[36m86\u001B[0m - \u001B[1m['bp_mb_avg', 'trackerwm_avg', 'ws_ms_s_wvt', 'uvb_avg', 'shadowbandwm_avg', 'dnicalc_avg', 'uva_avg', 'sunwm_avg', 'winddir_sd1_wvt', 'airtc_avg', 'shadowwm_avg', 'rh', 'winddir_d1_wvt', 'measured_t']\u001B[0m\n",
      "\u001B[32m2024-07-26 08:46:20.759\u001B[0m | \u001B[1mINFO    \u001B[0m | \u001B[36msrc.prepare_dataset\u001B[0m:\u001B[36mprepare_data\u001B[0m:\u001B[36m94\u001B[0m - \u001B[1mData and assets are saved in the : \u001B[0m\n",
      "\u001B[32m2024-07-26 08:46:20.760\u001B[0m | \u001B[1mINFO    \u001B[0m | \u001B[36msrc.prepare_dataset\u001B[0m:\u001B[36mprepare_data\u001B[0m:\u001B[36m95\u001B[0m - \u001B[1mData splits have this sizes each\n",
      "         Train: 258787,         Valid: 36969,         Test : 73941\u001B[0m\n"
     ]
    }
   ],
   "execution_count": 3
  },
  {
   "cell_type": "code",
   "id": "372c9ca7",
   "metadata": {
    "ExecuteTime": {
     "end_time": "2024-07-26T12:46:50.134723Z",
     "start_time": "2024-07-26T12:46:49.507372Z"
    }
   },
   "source": [
    "train = pd.read_csv(\"./tmp/train.csv\")\n",
    "val = pd.read_csv(\"./tmp/valid.csv\")\n",
    "test = pd.read_csv(\"./tmp/test.csv\")\n",
    "keep_tmstamp = False\n",
    "if keep_tmstamp:\n",
    "    train['tmstamp'] = train['tmstamp'].astype('category')\n",
    "    val['tmstamp'] = val['tmstamp'].astype('category')\n",
    "    test['tmstamp'] = test['tmstamp'].astype('category')\n",
    "else:\n",
    "    train = train.drop(columns=['tmstamp'])\n",
    "    val = val.drop(columns=['tmstamp'])\n",
    "    test = test.drop(columns=['tmstamp'])"
   ],
   "outputs": [],
   "execution_count": 4
  },
  {
   "metadata": {
    "ExecuteTime": {
     "end_time": "2024-07-26T12:46:53.676691Z",
     "start_time": "2024-07-26T12:46:53.662220Z"
    }
   },
   "cell_type": "code",
   "source": [
    "X_train, y_train = train.loc[:, train.columns != 'measured_t'], train['measured_t']\n",
    "X_val, y_val = val.loc[:, val.columns != 'measured_t'], val['measured_t']\n",
    "X_test, y_test = test.loc[:, test.columns != 'measured_t'], test['measured_t']"
   ],
   "id": "f21daef2a8caa3b2",
   "outputs": [],
   "execution_count": 5
  },
  {
   "cell_type": "code",
   "id": "7398f645bf4782f1",
   "metadata": {
    "ExecuteTime": {
     "end_time": "2024-07-26T12:46:54.335096Z",
     "start_time": "2024-07-26T12:46:54.303877Z"
    }
   },
   "source": [
    "X_train"
   ],
   "outputs": [
    {
     "data": {
      "text/plain": "        classroom_type  school_day  school_hours  break_time  power_on  \\\n0                    0           1             0           0         1   \n1                    1           1             0           0         1   \n2                    1           1             0           0         1   \n3                    0           1             0           0         1   \n4                    1           1             0           0         1   \n...                ...         ...           ...         ...       ...   \n258782               0           0             0           0         1   \n258783               5           0             0           0         1   \n258784               2           0             0           0         1   \n258785               1           0             0           0         1   \n258786               1           0             0           0         1   \n\n        trackerwm_avg  shadowwm_avg  sunwm_avg  shadowbandwm_avg  dnicalc_avg  \\\n0            0.000000      0.764375   0.010247          0.061300     0.282270   \n1            0.000000      0.764626   0.010425          0.061711     0.282342   \n2            0.000000      0.764751   0.010425          0.061754     0.282256   \n3            0.000730      0.766587   0.011724          0.064445     0.282355   \n4            0.000332      0.774045   0.016519          0.079077     0.282305   \n...               ...           ...        ...               ...          ...   \n258782       0.016931      0.895718   0.096094          0.321443     0.282035   \n258783       0.120073      0.926651   0.161734          0.372700     0.288066   \n258784       0.120073      0.926651   0.161734          0.372700     0.288066   \n258785       0.006344      0.903829   0.103442          0.341516     0.282699   \n258786       0.036833      0.914436   0.117783          0.344181     0.283055   \n\n        ...  ws_ms_s_wvt  winddir_d1_wvt  winddir_sd1_wvt  bp_mb_avg  \\\n0       ...     0.595232        0.000000         0.748538   0.106834   \n1       ...     0.595232        0.000000         0.748538   0.106678   \n2       ...     0.595232        0.000000         0.748538   0.105712   \n3       ...     0.621405        0.005905         0.764025   0.107146   \n4       ...     0.595232        0.000000         0.748538   0.106023   \n...     ...          ...             ...              ...        ...   \n258782  ...     0.700235        0.059070         0.896844   0.479983   \n258783  ...     0.757264        0.064367         0.825476   0.481066   \n258784  ...     0.757264        0.064367         0.825476   0.481066   \n258785  ...     0.767009        0.061584         0.817416   0.481311   \n258786  ...     0.767790        0.060998         0.806998   0.481869   \n\n         uva_avg   uvb_avg  Month  Day  Hour  Minute  \n0       0.008796  0.074619      3   16     7      17  \n1       0.008796  0.074433      3   16     7      18  \n2       0.008642  0.074248      3   16     7      19  \n3       0.008488  0.074248      3   16     7      27  \n4       0.008951  0.074248      3   16     7      33  \n...          ...       ...    ...  ...   ...     ...  \n258782  0.611368  0.799229      9   16    13      24  \n258783  0.611381  0.799245      9   16    13      26  \n258784  0.611381  0.799245      9   16    13      26  \n258785  0.607714  0.799289      9   16    13      28  \n258786  0.593033  0.799274      9   16    13      30  \n\n[258787 rows x 22 columns]",
      "text/html": "<div>\n<style scoped>\n    .dataframe tbody tr th:only-of-type {\n        vertical-align: middle;\n    }\n\n    .dataframe tbody tr th {\n        vertical-align: top;\n    }\n\n    .dataframe thead th {\n        text-align: right;\n    }\n</style>\n<table border=\"1\" class=\"dataframe\">\n  <thead>\n    <tr style=\"text-align: right;\">\n      <th></th>\n      <th>classroom_type</th>\n      <th>school_day</th>\n      <th>school_hours</th>\n      <th>break_time</th>\n      <th>power_on</th>\n      <th>trackerwm_avg</th>\n      <th>shadowwm_avg</th>\n      <th>sunwm_avg</th>\n      <th>shadowbandwm_avg</th>\n      <th>dnicalc_avg</th>\n      <th>...</th>\n      <th>ws_ms_s_wvt</th>\n      <th>winddir_d1_wvt</th>\n      <th>winddir_sd1_wvt</th>\n      <th>bp_mb_avg</th>\n      <th>uva_avg</th>\n      <th>uvb_avg</th>\n      <th>Month</th>\n      <th>Day</th>\n      <th>Hour</th>\n      <th>Minute</th>\n    </tr>\n  </thead>\n  <tbody>\n    <tr>\n      <th>0</th>\n      <td>0</td>\n      <td>1</td>\n      <td>0</td>\n      <td>0</td>\n      <td>1</td>\n      <td>0.000000</td>\n      <td>0.764375</td>\n      <td>0.010247</td>\n      <td>0.061300</td>\n      <td>0.282270</td>\n      <td>...</td>\n      <td>0.595232</td>\n      <td>0.000000</td>\n      <td>0.748538</td>\n      <td>0.106834</td>\n      <td>0.008796</td>\n      <td>0.074619</td>\n      <td>3</td>\n      <td>16</td>\n      <td>7</td>\n      <td>17</td>\n    </tr>\n    <tr>\n      <th>1</th>\n      <td>1</td>\n      <td>1</td>\n      <td>0</td>\n      <td>0</td>\n      <td>1</td>\n      <td>0.000000</td>\n      <td>0.764626</td>\n      <td>0.010425</td>\n      <td>0.061711</td>\n      <td>0.282342</td>\n      <td>...</td>\n      <td>0.595232</td>\n      <td>0.000000</td>\n      <td>0.748538</td>\n      <td>0.106678</td>\n      <td>0.008796</td>\n      <td>0.074433</td>\n      <td>3</td>\n      <td>16</td>\n      <td>7</td>\n      <td>18</td>\n    </tr>\n    <tr>\n      <th>2</th>\n      <td>1</td>\n      <td>1</td>\n      <td>0</td>\n      <td>0</td>\n      <td>1</td>\n      <td>0.000000</td>\n      <td>0.764751</td>\n      <td>0.010425</td>\n      <td>0.061754</td>\n      <td>0.282256</td>\n      <td>...</td>\n      <td>0.595232</td>\n      <td>0.000000</td>\n      <td>0.748538</td>\n      <td>0.105712</td>\n      <td>0.008642</td>\n      <td>0.074248</td>\n      <td>3</td>\n      <td>16</td>\n      <td>7</td>\n      <td>19</td>\n    </tr>\n    <tr>\n      <th>3</th>\n      <td>0</td>\n      <td>1</td>\n      <td>0</td>\n      <td>0</td>\n      <td>1</td>\n      <td>0.000730</td>\n      <td>0.766587</td>\n      <td>0.011724</td>\n      <td>0.064445</td>\n      <td>0.282355</td>\n      <td>...</td>\n      <td>0.621405</td>\n      <td>0.005905</td>\n      <td>0.764025</td>\n      <td>0.107146</td>\n      <td>0.008488</td>\n      <td>0.074248</td>\n      <td>3</td>\n      <td>16</td>\n      <td>7</td>\n      <td>27</td>\n    </tr>\n    <tr>\n      <th>4</th>\n      <td>1</td>\n      <td>1</td>\n      <td>0</td>\n      <td>0</td>\n      <td>1</td>\n      <td>0.000332</td>\n      <td>0.774045</td>\n      <td>0.016519</td>\n      <td>0.079077</td>\n      <td>0.282305</td>\n      <td>...</td>\n      <td>0.595232</td>\n      <td>0.000000</td>\n      <td>0.748538</td>\n      <td>0.106023</td>\n      <td>0.008951</td>\n      <td>0.074248</td>\n      <td>3</td>\n      <td>16</td>\n      <td>7</td>\n      <td>33</td>\n    </tr>\n    <tr>\n      <th>...</th>\n      <td>...</td>\n      <td>...</td>\n      <td>...</td>\n      <td>...</td>\n      <td>...</td>\n      <td>...</td>\n      <td>...</td>\n      <td>...</td>\n      <td>...</td>\n      <td>...</td>\n      <td>...</td>\n      <td>...</td>\n      <td>...</td>\n      <td>...</td>\n      <td>...</td>\n      <td>...</td>\n      <td>...</td>\n      <td>...</td>\n      <td>...</td>\n      <td>...</td>\n      <td>...</td>\n    </tr>\n    <tr>\n      <th>258782</th>\n      <td>0</td>\n      <td>0</td>\n      <td>0</td>\n      <td>0</td>\n      <td>1</td>\n      <td>0.016931</td>\n      <td>0.895718</td>\n      <td>0.096094</td>\n      <td>0.321443</td>\n      <td>0.282035</td>\n      <td>...</td>\n      <td>0.700235</td>\n      <td>0.059070</td>\n      <td>0.896844</td>\n      <td>0.479983</td>\n      <td>0.611368</td>\n      <td>0.799229</td>\n      <td>9</td>\n      <td>16</td>\n      <td>13</td>\n      <td>24</td>\n    </tr>\n    <tr>\n      <th>258783</th>\n      <td>5</td>\n      <td>0</td>\n      <td>0</td>\n      <td>0</td>\n      <td>1</td>\n      <td>0.120073</td>\n      <td>0.926651</td>\n      <td>0.161734</td>\n      <td>0.372700</td>\n      <td>0.288066</td>\n      <td>...</td>\n      <td>0.757264</td>\n      <td>0.064367</td>\n      <td>0.825476</td>\n      <td>0.481066</td>\n      <td>0.611381</td>\n      <td>0.799245</td>\n      <td>9</td>\n      <td>16</td>\n      <td>13</td>\n      <td>26</td>\n    </tr>\n    <tr>\n      <th>258784</th>\n      <td>2</td>\n      <td>0</td>\n      <td>0</td>\n      <td>0</td>\n      <td>1</td>\n      <td>0.120073</td>\n      <td>0.926651</td>\n      <td>0.161734</td>\n      <td>0.372700</td>\n      <td>0.288066</td>\n      <td>...</td>\n      <td>0.757264</td>\n      <td>0.064367</td>\n      <td>0.825476</td>\n      <td>0.481066</td>\n      <td>0.611381</td>\n      <td>0.799245</td>\n      <td>9</td>\n      <td>16</td>\n      <td>13</td>\n      <td>26</td>\n    </tr>\n    <tr>\n      <th>258785</th>\n      <td>1</td>\n      <td>0</td>\n      <td>0</td>\n      <td>0</td>\n      <td>1</td>\n      <td>0.006344</td>\n      <td>0.903829</td>\n      <td>0.103442</td>\n      <td>0.341516</td>\n      <td>0.282699</td>\n      <td>...</td>\n      <td>0.767009</td>\n      <td>0.061584</td>\n      <td>0.817416</td>\n      <td>0.481311</td>\n      <td>0.607714</td>\n      <td>0.799289</td>\n      <td>9</td>\n      <td>16</td>\n      <td>13</td>\n      <td>28</td>\n    </tr>\n    <tr>\n      <th>258786</th>\n      <td>1</td>\n      <td>0</td>\n      <td>0</td>\n      <td>0</td>\n      <td>1</td>\n      <td>0.036833</td>\n      <td>0.914436</td>\n      <td>0.117783</td>\n      <td>0.344181</td>\n      <td>0.283055</td>\n      <td>...</td>\n      <td>0.767790</td>\n      <td>0.060998</td>\n      <td>0.806998</td>\n      <td>0.481869</td>\n      <td>0.593033</td>\n      <td>0.799274</td>\n      <td>9</td>\n      <td>16</td>\n      <td>13</td>\n      <td>30</td>\n    </tr>\n  </tbody>\n</table>\n<p>258787 rows × 22 columns</p>\n</div>"
     },
     "execution_count": 6,
     "metadata": {},
     "output_type": "execute_result"
    }
   ],
   "execution_count": 6
  },
  {
   "metadata": {
    "ExecuteTime": {
     "end_time": "2024-07-26T12:47:01.268145Z",
     "start_time": "2024-07-26T12:47:01.226600Z"
    }
   },
   "cell_type": "code",
   "source": [
    "# Create regression matrices\n",
    "cat = False\n",
    "dtrain_reg = xgb.DMatrix(X_train, y_train, enable_categorical=cat)\n",
    "dval_reg = xgb.DMatrix(X_val, y_val, enable_categorical=cat)\n",
    "dtest_reg = xgb.DMatrix(X_test, y_test, enable_categorical=cat)"
   ],
   "id": "296b096f8e9f6326",
   "outputs": [],
   "execution_count": 7
  },
  {
   "metadata": {
    "ExecuteTime": {
     "end_time": "2024-07-26T12:48:14.532883Z",
     "start_time": "2024-07-26T12:48:13.957212Z"
    }
   },
   "cell_type": "code",
   "source": [
    "# Define hyperparameters\n",
    "# GPU: \"tree_method\": \"gpu_hist\"\n",
    "# No GPU: \"tree_method\": \"hist\"\n",
    "params = {\"objective\": \"reg:squarederror\", \"tree_method\": \"hist\"}\n",
    "evals = [(dtrain_reg, \"train\"), (dval_reg, \"validation\")]\n",
    "\n",
    "n = 10000\n",
    "model_xgb = xgb.train(\n",
    "    params=params,\n",
    "    dtrain=dtrain_reg,\n",
    "    num_boost_round=n,\n",
    "    evals=evals,\n",
    "    verbose_eval=10,\n",
    "    early_stopping_rounds=50\n",
    ")"
   ],
   "id": "dad4ec4208bbe7f5",
   "outputs": [
    {
     "name": "stdout",
     "output_type": "stream",
     "text": [
      "[0]\ttrain-rmse:0.09044\tvalidation-rmse:0.10197\n",
      "[10]\ttrain-rmse:0.04663\tvalidation-rmse:0.06277\n",
      "[20]\ttrain-rmse:0.04309\tvalidation-rmse:0.06280\n",
      "[30]\ttrain-rmse:0.04174\tvalidation-rmse:0.06300\n",
      "[40]\ttrain-rmse:0.04084\tvalidation-rmse:0.06508\n",
      "[50]\ttrain-rmse:0.04017\tvalidation-rmse:0.06420\n",
      "[60]\ttrain-rmse:0.03950\tvalidation-rmse:0.06411\n",
      "[65]\ttrain-rmse:0.03926\tvalidation-rmse:0.06377\n"
     ]
    }
   ],
   "execution_count": 9
  },
  {
   "metadata": {
    "ExecuteTime": {
     "end_time": "2024-07-26T12:48:18.900523Z",
     "start_time": "2024-07-26T12:48:18.876177Z"
    }
   },
   "cell_type": "code",
   "source": [
    "pred_xgb = model_xgb.predict(dtest_reg)\n",
    "rmse_xgb = mean_squared_error(y_test, pred_xgb, squared=False)\n",
    "r2_xgb = r2_score(y_test, pred_xgb)\n",
    "\n",
    "print(f\"RMSE of the XGBoost model: {rmse_xgb:.5f}\")\n",
    "print(f\"R2 of the XGBoost model: {r2_xgb:.5f}\")"
   ],
   "id": "afaa87ac5b9660b3",
   "outputs": [
    {
     "name": "stdout",
     "output_type": "stream",
     "text": [
      "RMSE of the XGBoost model: 0.14392\n",
      "R2 of the XGBoost model: -0.68412\n"
     ]
    }
   ],
   "execution_count": 10
  },
  {
   "metadata": {
    "ExecuteTime": {
     "end_time": "2024-07-26T12:52:25.711556Z",
     "start_time": "2024-07-26T12:48:38.341381Z"
    }
   },
   "cell_type": "code",
   "source": [
    "# Fitting Random Forest Regression to the dataset\n",
    "model_rfr = RandomForestRegressor(n_estimators=100, random_state=0, oob_score=True)\n",
    "\n",
    "# Fit the regressor with x and y data\n",
    "model_rfr.fit(X_train, y_train)"
   ],
   "id": "b0599774e8c72d0d",
   "outputs": [
    {
     "data": {
      "text/plain": "RandomForestRegressor(oob_score=True, random_state=0)",
      "text/html": "<style>#sk-container-id-1 {\n  /* Definition of color scheme common for light and dark mode */\n  --sklearn-color-text: black;\n  --sklearn-color-line: gray;\n  /* Definition of color scheme for unfitted estimators */\n  --sklearn-color-unfitted-level-0: #fff5e6;\n  --sklearn-color-unfitted-level-1: #f6e4d2;\n  --sklearn-color-unfitted-level-2: #ffe0b3;\n  --sklearn-color-unfitted-level-3: chocolate;\n  /* Definition of color scheme for fitted estimators */\n  --sklearn-color-fitted-level-0: #f0f8ff;\n  --sklearn-color-fitted-level-1: #d4ebff;\n  --sklearn-color-fitted-level-2: #b3dbfd;\n  --sklearn-color-fitted-level-3: cornflowerblue;\n\n  /* Specific color for light theme */\n  --sklearn-color-text-on-default-background: var(--sg-text-color, var(--theme-code-foreground, var(--jp-content-font-color1, black)));\n  --sklearn-color-background: var(--sg-background-color, var(--theme-background, var(--jp-layout-color0, white)));\n  --sklearn-color-border-box: var(--sg-text-color, var(--theme-code-foreground, var(--jp-content-font-color1, black)));\n  --sklearn-color-icon: #696969;\n\n  @media (prefers-color-scheme: dark) {\n    /* Redefinition of color scheme for dark theme */\n    --sklearn-color-text-on-default-background: var(--sg-text-color, var(--theme-code-foreground, var(--jp-content-font-color1, white)));\n    --sklearn-color-background: var(--sg-background-color, var(--theme-background, var(--jp-layout-color0, #111)));\n    --sklearn-color-border-box: var(--sg-text-color, var(--theme-code-foreground, var(--jp-content-font-color1, white)));\n    --sklearn-color-icon: #878787;\n  }\n}\n\n#sk-container-id-1 {\n  color: var(--sklearn-color-text);\n}\n\n#sk-container-id-1 pre {\n  padding: 0;\n}\n\n#sk-container-id-1 input.sk-hidden--visually {\n  border: 0;\n  clip: rect(1px 1px 1px 1px);\n  clip: rect(1px, 1px, 1px, 1px);\n  height: 1px;\n  margin: -1px;\n  overflow: hidden;\n  padding: 0;\n  position: absolute;\n  width: 1px;\n}\n\n#sk-container-id-1 div.sk-dashed-wrapped {\n  border: 1px dashed var(--sklearn-color-line);\n  margin: 0 0.4em 0.5em 0.4em;\n  box-sizing: border-box;\n  padding-bottom: 0.4em;\n  background-color: var(--sklearn-color-background);\n}\n\n#sk-container-id-1 div.sk-container {\n  /* jupyter's `normalize.less` sets `[hidden] { display: none; }`\n     but bootstrap.min.css set `[hidden] { display: none !important; }`\n     so we also need the `!important` here to be able to override the\n     default hidden behavior on the sphinx rendered scikit-learn.org.\n     See: https://github.com/scikit-learn/scikit-learn/issues/21755 */\n  display: inline-block !important;\n  position: relative;\n}\n\n#sk-container-id-1 div.sk-text-repr-fallback {\n  display: none;\n}\n\ndiv.sk-parallel-item,\ndiv.sk-serial,\ndiv.sk-item {\n  /* draw centered vertical line to link estimators */\n  background-image: linear-gradient(var(--sklearn-color-text-on-default-background), var(--sklearn-color-text-on-default-background));\n  background-size: 2px 100%;\n  background-repeat: no-repeat;\n  background-position: center center;\n}\n\n/* Parallel-specific style estimator block */\n\n#sk-container-id-1 div.sk-parallel-item::after {\n  content: \"\";\n  width: 100%;\n  border-bottom: 2px solid var(--sklearn-color-text-on-default-background);\n  flex-grow: 1;\n}\n\n#sk-container-id-1 div.sk-parallel {\n  display: flex;\n  align-items: stretch;\n  justify-content: center;\n  background-color: var(--sklearn-color-background);\n  position: relative;\n}\n\n#sk-container-id-1 div.sk-parallel-item {\n  display: flex;\n  flex-direction: column;\n}\n\n#sk-container-id-1 div.sk-parallel-item:first-child::after {\n  align-self: flex-end;\n  width: 50%;\n}\n\n#sk-container-id-1 div.sk-parallel-item:last-child::after {\n  align-self: flex-start;\n  width: 50%;\n}\n\n#sk-container-id-1 div.sk-parallel-item:only-child::after {\n  width: 0;\n}\n\n/* Serial-specific style estimator block */\n\n#sk-container-id-1 div.sk-serial {\n  display: flex;\n  flex-direction: column;\n  align-items: center;\n  background-color: var(--sklearn-color-background);\n  padding-right: 1em;\n  padding-left: 1em;\n}\n\n\n/* Toggleable style: style used for estimator/Pipeline/ColumnTransformer box that is\nclickable and can be expanded/collapsed.\n- Pipeline and ColumnTransformer use this feature and define the default style\n- Estimators will overwrite some part of the style using the `sk-estimator` class\n*/\n\n/* Pipeline and ColumnTransformer style (default) */\n\n#sk-container-id-1 div.sk-toggleable {\n  /* Default theme specific background. It is overwritten whether we have a\n  specific estimator or a Pipeline/ColumnTransformer */\n  background-color: var(--sklearn-color-background);\n}\n\n/* Toggleable label */\n#sk-container-id-1 label.sk-toggleable__label {\n  cursor: pointer;\n  display: block;\n  width: 100%;\n  margin-bottom: 0;\n  padding: 0.5em;\n  box-sizing: border-box;\n  text-align: center;\n}\n\n#sk-container-id-1 label.sk-toggleable__label-arrow:before {\n  /* Arrow on the left of the label */\n  content: \"▸\";\n  float: left;\n  margin-right: 0.25em;\n  color: var(--sklearn-color-icon);\n}\n\n#sk-container-id-1 label.sk-toggleable__label-arrow:hover:before {\n  color: var(--sklearn-color-text);\n}\n\n/* Toggleable content - dropdown */\n\n#sk-container-id-1 div.sk-toggleable__content {\n  max-height: 0;\n  max-width: 0;\n  overflow: hidden;\n  text-align: left;\n  /* unfitted */\n  background-color: var(--sklearn-color-unfitted-level-0);\n}\n\n#sk-container-id-1 div.sk-toggleable__content.fitted {\n  /* fitted */\n  background-color: var(--sklearn-color-fitted-level-0);\n}\n\n#sk-container-id-1 div.sk-toggleable__content pre {\n  margin: 0.2em;\n  border-radius: 0.25em;\n  color: var(--sklearn-color-text);\n  /* unfitted */\n  background-color: var(--sklearn-color-unfitted-level-0);\n}\n\n#sk-container-id-1 div.sk-toggleable__content.fitted pre {\n  /* unfitted */\n  background-color: var(--sklearn-color-fitted-level-0);\n}\n\n#sk-container-id-1 input.sk-toggleable__control:checked~div.sk-toggleable__content {\n  /* Expand drop-down */\n  max-height: 200px;\n  max-width: 100%;\n  overflow: auto;\n}\n\n#sk-container-id-1 input.sk-toggleable__control:checked~label.sk-toggleable__label-arrow:before {\n  content: \"▾\";\n}\n\n/* Pipeline/ColumnTransformer-specific style */\n\n#sk-container-id-1 div.sk-label input.sk-toggleable__control:checked~label.sk-toggleable__label {\n  color: var(--sklearn-color-text);\n  background-color: var(--sklearn-color-unfitted-level-2);\n}\n\n#sk-container-id-1 div.sk-label.fitted input.sk-toggleable__control:checked~label.sk-toggleable__label {\n  background-color: var(--sklearn-color-fitted-level-2);\n}\n\n/* Estimator-specific style */\n\n/* Colorize estimator box */\n#sk-container-id-1 div.sk-estimator input.sk-toggleable__control:checked~label.sk-toggleable__label {\n  /* unfitted */\n  background-color: var(--sklearn-color-unfitted-level-2);\n}\n\n#sk-container-id-1 div.sk-estimator.fitted input.sk-toggleable__control:checked~label.sk-toggleable__label {\n  /* fitted */\n  background-color: var(--sklearn-color-fitted-level-2);\n}\n\n#sk-container-id-1 div.sk-label label.sk-toggleable__label,\n#sk-container-id-1 div.sk-label label {\n  /* The background is the default theme color */\n  color: var(--sklearn-color-text-on-default-background);\n}\n\n/* On hover, darken the color of the background */\n#sk-container-id-1 div.sk-label:hover label.sk-toggleable__label {\n  color: var(--sklearn-color-text);\n  background-color: var(--sklearn-color-unfitted-level-2);\n}\n\n/* Label box, darken color on hover, fitted */\n#sk-container-id-1 div.sk-label.fitted:hover label.sk-toggleable__label.fitted {\n  color: var(--sklearn-color-text);\n  background-color: var(--sklearn-color-fitted-level-2);\n}\n\n/* Estimator label */\n\n#sk-container-id-1 div.sk-label label {\n  font-family: monospace;\n  font-weight: bold;\n  display: inline-block;\n  line-height: 1.2em;\n}\n\n#sk-container-id-1 div.sk-label-container {\n  text-align: center;\n}\n\n/* Estimator-specific */\n#sk-container-id-1 div.sk-estimator {\n  font-family: monospace;\n  border: 1px dotted var(--sklearn-color-border-box);\n  border-radius: 0.25em;\n  box-sizing: border-box;\n  margin-bottom: 0.5em;\n  /* unfitted */\n  background-color: var(--sklearn-color-unfitted-level-0);\n}\n\n#sk-container-id-1 div.sk-estimator.fitted {\n  /* fitted */\n  background-color: var(--sklearn-color-fitted-level-0);\n}\n\n/* on hover */\n#sk-container-id-1 div.sk-estimator:hover {\n  /* unfitted */\n  background-color: var(--sklearn-color-unfitted-level-2);\n}\n\n#sk-container-id-1 div.sk-estimator.fitted:hover {\n  /* fitted */\n  background-color: var(--sklearn-color-fitted-level-2);\n}\n\n/* Specification for estimator info (e.g. \"i\" and \"?\") */\n\n/* Common style for \"i\" and \"?\" */\n\n.sk-estimator-doc-link,\na:link.sk-estimator-doc-link,\na:visited.sk-estimator-doc-link {\n  float: right;\n  font-size: smaller;\n  line-height: 1em;\n  font-family: monospace;\n  background-color: var(--sklearn-color-background);\n  border-radius: 1em;\n  height: 1em;\n  width: 1em;\n  text-decoration: none !important;\n  margin-left: 1ex;\n  /* unfitted */\n  border: var(--sklearn-color-unfitted-level-1) 1pt solid;\n  color: var(--sklearn-color-unfitted-level-1);\n}\n\n.sk-estimator-doc-link.fitted,\na:link.sk-estimator-doc-link.fitted,\na:visited.sk-estimator-doc-link.fitted {\n  /* fitted */\n  border: var(--sklearn-color-fitted-level-1) 1pt solid;\n  color: var(--sklearn-color-fitted-level-1);\n}\n\n/* On hover */\ndiv.sk-estimator:hover .sk-estimator-doc-link:hover,\n.sk-estimator-doc-link:hover,\ndiv.sk-label-container:hover .sk-estimator-doc-link:hover,\n.sk-estimator-doc-link:hover {\n  /* unfitted */\n  background-color: var(--sklearn-color-unfitted-level-3);\n  color: var(--sklearn-color-background);\n  text-decoration: none;\n}\n\ndiv.sk-estimator.fitted:hover .sk-estimator-doc-link.fitted:hover,\n.sk-estimator-doc-link.fitted:hover,\ndiv.sk-label-container:hover .sk-estimator-doc-link.fitted:hover,\n.sk-estimator-doc-link.fitted:hover {\n  /* fitted */\n  background-color: var(--sklearn-color-fitted-level-3);\n  color: var(--sklearn-color-background);\n  text-decoration: none;\n}\n\n/* Span, style for the box shown on hovering the info icon */\n.sk-estimator-doc-link span {\n  display: none;\n  z-index: 9999;\n  position: relative;\n  font-weight: normal;\n  right: .2ex;\n  padding: .5ex;\n  margin: .5ex;\n  width: min-content;\n  min-width: 20ex;\n  max-width: 50ex;\n  color: var(--sklearn-color-text);\n  box-shadow: 2pt 2pt 4pt #999;\n  /* unfitted */\n  background: var(--sklearn-color-unfitted-level-0);\n  border: .5pt solid var(--sklearn-color-unfitted-level-3);\n}\n\n.sk-estimator-doc-link.fitted span {\n  /* fitted */\n  background: var(--sklearn-color-fitted-level-0);\n  border: var(--sklearn-color-fitted-level-3);\n}\n\n.sk-estimator-doc-link:hover span {\n  display: block;\n}\n\n/* \"?\"-specific style due to the `<a>` HTML tag */\n\n#sk-container-id-1 a.estimator_doc_link {\n  float: right;\n  font-size: 1rem;\n  line-height: 1em;\n  font-family: monospace;\n  background-color: var(--sklearn-color-background);\n  border-radius: 1rem;\n  height: 1rem;\n  width: 1rem;\n  text-decoration: none;\n  /* unfitted */\n  color: var(--sklearn-color-unfitted-level-1);\n  border: var(--sklearn-color-unfitted-level-1) 1pt solid;\n}\n\n#sk-container-id-1 a.estimator_doc_link.fitted {\n  /* fitted */\n  border: var(--sklearn-color-fitted-level-1) 1pt solid;\n  color: var(--sklearn-color-fitted-level-1);\n}\n\n/* On hover */\n#sk-container-id-1 a.estimator_doc_link:hover {\n  /* unfitted */\n  background-color: var(--sklearn-color-unfitted-level-3);\n  color: var(--sklearn-color-background);\n  text-decoration: none;\n}\n\n#sk-container-id-1 a.estimator_doc_link.fitted:hover {\n  /* fitted */\n  background-color: var(--sklearn-color-fitted-level-3);\n}\n</style><div id=\"sk-container-id-1\" class=\"sk-top-container\"><div class=\"sk-text-repr-fallback\"><pre>RandomForestRegressor(oob_score=True, random_state=0)</pre><b>In a Jupyter environment, please rerun this cell to show the HTML representation or trust the notebook. <br />On GitHub, the HTML representation is unable to render, please try loading this page with nbviewer.org.</b></div><div class=\"sk-container\" hidden><div class=\"sk-item\"><div class=\"sk-estimator fitted sk-toggleable\"><input class=\"sk-toggleable__control sk-hidden--visually\" id=\"sk-estimator-id-1\" type=\"checkbox\" checked><label for=\"sk-estimator-id-1\" class=\"sk-toggleable__label fitted sk-toggleable__label-arrow fitted\">&nbsp;&nbsp;RandomForestRegressor<a class=\"sk-estimator-doc-link fitted\" rel=\"noreferrer\" target=\"_blank\" href=\"https://scikit-learn.org/1.5/modules/generated/sklearn.ensemble.RandomForestRegressor.html\">?<span>Documentation for RandomForestRegressor</span></a><span class=\"sk-estimator-doc-link fitted\">i<span>Fitted</span></span></label><div class=\"sk-toggleable__content fitted\"><pre>RandomForestRegressor(oob_score=True, random_state=0)</pre></div> </div></div></div></div>"
     },
     "execution_count": 11,
     "metadata": {},
     "output_type": "execute_result"
    }
   ],
   "execution_count": 11
  },
  {
   "metadata": {
    "ExecuteTime": {
     "end_time": "2024-07-26T12:52:36.740012Z",
     "start_time": "2024-07-26T12:52:36.335732Z"
    }
   },
   "cell_type": "code",
   "source": [
    "pred_rfr = model_rfr.predict(X_test)\n",
    "rmse_rfr = mean_squared_error(y_test, pred_rfr, squared=False)\n",
    "r2_rfr = r2_score(y_test, pred_rfr)\n",
    "\n",
    "print(f\"RMSE of the Random Forest Regression model: {rmse_rfr:.5f}\")\n",
    "print(f\"R2 of the Random Forest Regression model: {r2_rfr:.5f}\")"
   ],
   "id": "fe9fd7c67aec681e",
   "outputs": [
    {
     "name": "stdout",
     "output_type": "stream",
     "text": [
      "RMSE of the Random Forest Regression model: 0.14647\n",
      "R2 of the Random Forest Regression model: -0.74426\n"
     ]
    }
   ],
   "execution_count": 12
  },
  {
   "metadata": {},
   "cell_type": "code",
   "outputs": [],
   "execution_count": null,
   "source": [],
   "id": "5a45d0d0da0a3fe2"
  }
 ],
 "metadata": {
  "kernelspec": {
   "display_name": "Python 3",
   "language": "python",
   "name": "python3"
  },
  "language_info": {
   "codemirror_mode": {
    "name": "ipython",
    "version": 3
   },
   "file_extension": ".py",
   "mimetype": "text/x-python",
   "name": "python",
   "nbconvert_exporter": "python",
   "pygments_lexer": "ipython3",
   "version": "3.9.16"
  }
 },
 "nbformat": 4,
 "nbformat_minor": 5
}
