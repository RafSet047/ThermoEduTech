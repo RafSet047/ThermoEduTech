{
 "cells": [
  {
   "cell_type": "code",
   "execution_count": 48,
   "id": "56bfafdf",
   "metadata": {},
   "outputs": [],
   "source": [
    "import numpy as np\n",
    "import pandas as pd\n",
    "from src.prepare_dataset import prepare_data\n",
    "from sklearn.metrics import r2_score, mean_absolute_error\n",
    "from sklearn.preprocessing import MinMaxScaler\n",
    "import torch\n",
    "import torch.nn as nn\n",
    "from torch.utils.data import DataLoader, TensorDataset"
   ]
  },
  {
   "cell_type": "code",
   "execution_count": 9,
   "id": "3284c726",
   "metadata": {},
   "outputs": [
    {
     "name": "stdout",
     "output_type": "stream",
     "text": [
      "data/final_dataset.csv\n"
     ]
    },
    {
     "name": "stderr",
     "output_type": "stream",
     "text": [
      "\u001b[32m2024-07-26 18:21:29.075\u001b[0m | \u001b[1mINFO    \u001b[0m | \u001b[36msrc.prepare_dataset\u001b[0m:\u001b[36mprepare_data\u001b[0m:\u001b[36m31\u001b[0m - \u001b[1mDropped the unnecessary columns\u001b[0m\n",
      "\u001b[32m2024-07-26 18:21:29.076\u001b[0m | \u001b[1mINFO    \u001b[0m | \u001b[36msrc.prepare_dataset\u001b[0m:\u001b[36mprepare_data\u001b[0m:\u001b[36m36\u001b[0m - \u001b[1mDataset size BEFORE dropping the rows by date: 372084\u001b[0m\n",
      "\u001b[32m2024-07-26 18:21:29.815\u001b[0m | \u001b[1mINFO    \u001b[0m | \u001b[36msrc.prepare_dataset\u001b[0m:\u001b[36mprepare_data\u001b[0m:\u001b[36m38\u001b[0m - \u001b[1mDataset size AFTER dropping the rows by date: 369697\u001b[0m\n",
      "\u001b[32m2024-07-26 18:21:30.228\u001b[0m | \u001b[1mINFO    \u001b[0m | \u001b[36msrc.prepare_dataset\u001b[0m:\u001b[36mprepare_data\u001b[0m:\u001b[36m56\u001b[0m - \u001b[1mOverall encoded 5 cateforical features\u001b[0m\n",
      "\u001b[32m2024-07-26 18:21:30.228\u001b[0m | \u001b[1mINFO    \u001b[0m | \u001b[36msrc.prepare_dataset\u001b[0m:\u001b[36mprepare_data\u001b[0m:\u001b[36m57\u001b[0m - \u001b[1m['school_hours', 'power_on', 'classroom_type', 'school_day', 'break_time']\u001b[0m\n",
      "\u001b[32m2024-07-26 18:21:30.873\u001b[0m | \u001b[1mINFO    \u001b[0m | \u001b[36msrc.prepare_dataset\u001b[0m:\u001b[36mprepare_data\u001b[0m:\u001b[36m79\u001b[0m - \u001b[1mFilled the missing values of variables\u001b[0m\n",
      "\u001b[32m2024-07-26 18:21:30.880\u001b[0m | \u001b[1mINFO    \u001b[0m | \u001b[36msrc.prepare_dataset\u001b[0m:\u001b[36mprepare_data\u001b[0m:\u001b[36m82\u001b[0m - \u001b[1mSliced the data into train, valid, test splits with the proportion: \u001b[0m\n",
      "\u001b[32m2024-07-26 18:21:30.937\u001b[0m | \u001b[1mINFO    \u001b[0m | \u001b[36msrc.prepare_dataset\u001b[0m:\u001b[36mprepare_data\u001b[0m:\u001b[36m85\u001b[0m - \u001b[1mApplied the MinMaxScaler to the dataset\u001b[0m\n",
      "\u001b[32m2024-07-26 18:21:30.937\u001b[0m | \u001b[1mINFO    \u001b[0m | \u001b[36msrc.prepare_dataset\u001b[0m:\u001b[36mprepare_data\u001b[0m:\u001b[36m86\u001b[0m - \u001b[1m['winddir_d1_wvt', 'winddir_sd1_wvt', 'dnicalc_avg', 'shadowbandwm_avg', 'sunwm_avg', 'bp_mb_avg', 'shadowwm_avg', 'uva_avg', 'airtc_avg', 'uvb_avg', 'trackerwm_avg', 'ws_ms_s_wvt', 'rh', 'measured_t']\u001b[0m\n",
      "\u001b[32m2024-07-26 18:21:37.062\u001b[0m | \u001b[1mINFO    \u001b[0m | \u001b[36msrc.prepare_dataset\u001b[0m:\u001b[36mprepare_data\u001b[0m:\u001b[36m94\u001b[0m - \u001b[1mData and assets are saved in the : \u001b[0m\n",
      "\u001b[32m2024-07-26 18:21:37.062\u001b[0m | \u001b[1mINFO    \u001b[0m | \u001b[36msrc.prepare_dataset\u001b[0m:\u001b[36mprepare_data\u001b[0m:\u001b[36m98\u001b[0m - \u001b[1mData splits have this sizes each\n",
      "         Train: 258787,         Valid: 36969,         Test : 73941\u001b[0m\n"
     ]
    }
   ],
   "source": [
    "prepare_data(\"data/final_dataset.csv\", \"prep_data\")"
   ]
  },
  {
   "cell_type": "code",
   "execution_count": 11,
   "id": "3e92d95b",
   "metadata": {},
   "outputs": [],
   "source": [
    "train = pd.read_csv(\"prep_data/train.csv\")\n",
    "val = pd.read_csv(\"prep_data/valid.csv\")\n",
    "test = pd.read_csv(\"prep_data/test.csv\")"
   ]
  },
  {
   "cell_type": "code",
   "execution_count": 24,
   "id": "8bddbbef",
   "metadata": {},
   "outputs": [],
   "source": [
    "def rearrange(data):\n",
    "    features = data.drop(['measured_t', 'tmstamp'], axis=1)\n",
    "    target = data['measured_t']\n",
    "    combined = pd.concat([features, target], axis=1)\n",
    "    return combined"
   ]
  },
  {
   "cell_type": "code",
   "execution_count": 25,
   "id": "57a1f36b",
   "metadata": {},
   "outputs": [],
   "source": [
    "train = rearrange(train)\n",
    "val = rearrange(val)\n",
    "test = rearrange(test)"
   ]
  },
  {
   "cell_type": "code",
   "execution_count": 27,
   "id": "be24d024",
   "metadata": {},
   "outputs": [
    {
     "data": {
      "text/html": [
       "<div>\n",
       "<style scoped>\n",
       "    .dataframe tbody tr th:only-of-type {\n",
       "        vertical-align: middle;\n",
       "    }\n",
       "\n",
       "    .dataframe tbody tr th {\n",
       "        vertical-align: top;\n",
       "    }\n",
       "\n",
       "    .dataframe thead th {\n",
       "        text-align: right;\n",
       "    }\n",
       "</style>\n",
       "<table border=\"1\" class=\"dataframe\">\n",
       "  <thead>\n",
       "    <tr style=\"text-align: right;\">\n",
       "      <th></th>\n",
       "      <th>classroom_type</th>\n",
       "      <th>school_day</th>\n",
       "      <th>school_hours</th>\n",
       "      <th>break_time</th>\n",
       "      <th>power_on</th>\n",
       "      <th>trackerwm_avg</th>\n",
       "      <th>shadowwm_avg</th>\n",
       "      <th>sunwm_avg</th>\n",
       "      <th>shadowbandwm_avg</th>\n",
       "      <th>dnicalc_avg</th>\n",
       "      <th>...</th>\n",
       "      <th>winddir_d1_wvt</th>\n",
       "      <th>winddir_sd1_wvt</th>\n",
       "      <th>bp_mb_avg</th>\n",
       "      <th>uva_avg</th>\n",
       "      <th>uvb_avg</th>\n",
       "      <th>Month</th>\n",
       "      <th>Day</th>\n",
       "      <th>Hour</th>\n",
       "      <th>Minute</th>\n",
       "      <th>measured_t</th>\n",
       "    </tr>\n",
       "  </thead>\n",
       "  <tbody>\n",
       "    <tr>\n",
       "      <th>0</th>\n",
       "      <td>0</td>\n",
       "      <td>1</td>\n",
       "      <td>0</td>\n",
       "      <td>0</td>\n",
       "      <td>1</td>\n",
       "      <td>0.000000</td>\n",
       "      <td>0.764375</td>\n",
       "      <td>0.010247</td>\n",
       "      <td>0.061300</td>\n",
       "      <td>0.282270</td>\n",
       "      <td>...</td>\n",
       "      <td>0.000000</td>\n",
       "      <td>0.748538</td>\n",
       "      <td>0.106834</td>\n",
       "      <td>0.008796</td>\n",
       "      <td>0.074619</td>\n",
       "      <td>3</td>\n",
       "      <td>16</td>\n",
       "      <td>7</td>\n",
       "      <td>17</td>\n",
       "      <td>0.621711</td>\n",
       "    </tr>\n",
       "    <tr>\n",
       "      <th>1</th>\n",
       "      <td>1</td>\n",
       "      <td>1</td>\n",
       "      <td>0</td>\n",
       "      <td>0</td>\n",
       "      <td>1</td>\n",
       "      <td>0.000000</td>\n",
       "      <td>0.764626</td>\n",
       "      <td>0.010425</td>\n",
       "      <td>0.061711</td>\n",
       "      <td>0.282342</td>\n",
       "      <td>...</td>\n",
       "      <td>0.000000</td>\n",
       "      <td>0.748538</td>\n",
       "      <td>0.106678</td>\n",
       "      <td>0.008796</td>\n",
       "      <td>0.074433</td>\n",
       "      <td>3</td>\n",
       "      <td>16</td>\n",
       "      <td>7</td>\n",
       "      <td>18</td>\n",
       "      <td>0.631579</td>\n",
       "    </tr>\n",
       "    <tr>\n",
       "      <th>2</th>\n",
       "      <td>1</td>\n",
       "      <td>1</td>\n",
       "      <td>0</td>\n",
       "      <td>0</td>\n",
       "      <td>1</td>\n",
       "      <td>0.000000</td>\n",
       "      <td>0.764751</td>\n",
       "      <td>0.010425</td>\n",
       "      <td>0.061754</td>\n",
       "      <td>0.282256</td>\n",
       "      <td>...</td>\n",
       "      <td>0.000000</td>\n",
       "      <td>0.748538</td>\n",
       "      <td>0.105712</td>\n",
       "      <td>0.008642</td>\n",
       "      <td>0.074248</td>\n",
       "      <td>3</td>\n",
       "      <td>16</td>\n",
       "      <td>7</td>\n",
       "      <td>19</td>\n",
       "      <td>0.644737</td>\n",
       "    </tr>\n",
       "    <tr>\n",
       "      <th>3</th>\n",
       "      <td>0</td>\n",
       "      <td>1</td>\n",
       "      <td>0</td>\n",
       "      <td>0</td>\n",
       "      <td>1</td>\n",
       "      <td>0.000730</td>\n",
       "      <td>0.766587</td>\n",
       "      <td>0.011724</td>\n",
       "      <td>0.064445</td>\n",
       "      <td>0.282355</td>\n",
       "      <td>...</td>\n",
       "      <td>0.005905</td>\n",
       "      <td>0.764025</td>\n",
       "      <td>0.107146</td>\n",
       "      <td>0.008488</td>\n",
       "      <td>0.074248</td>\n",
       "      <td>3</td>\n",
       "      <td>16</td>\n",
       "      <td>7</td>\n",
       "      <td>27</td>\n",
       "      <td>0.628289</td>\n",
       "    </tr>\n",
       "    <tr>\n",
       "      <th>4</th>\n",
       "      <td>1</td>\n",
       "      <td>1</td>\n",
       "      <td>0</td>\n",
       "      <td>0</td>\n",
       "      <td>1</td>\n",
       "      <td>0.000332</td>\n",
       "      <td>0.774045</td>\n",
       "      <td>0.016519</td>\n",
       "      <td>0.079077</td>\n",
       "      <td>0.282305</td>\n",
       "      <td>...</td>\n",
       "      <td>0.000000</td>\n",
       "      <td>0.748538</td>\n",
       "      <td>0.106023</td>\n",
       "      <td>0.008951</td>\n",
       "      <td>0.074248</td>\n",
       "      <td>3</td>\n",
       "      <td>16</td>\n",
       "      <td>7</td>\n",
       "      <td>33</td>\n",
       "      <td>0.611842</td>\n",
       "    </tr>\n",
       "  </tbody>\n",
       "</table>\n",
       "<p>5 rows × 23 columns</p>\n",
       "</div>"
      ],
      "text/plain": [
       "   classroom_type  school_day  school_hours  break_time  power_on  \\\n",
       "0               0           1             0           0         1   \n",
       "1               1           1             0           0         1   \n",
       "2               1           1             0           0         1   \n",
       "3               0           1             0           0         1   \n",
       "4               1           1             0           0         1   \n",
       "\n",
       "   trackerwm_avg  shadowwm_avg  sunwm_avg  shadowbandwm_avg  dnicalc_avg  ...  \\\n",
       "0       0.000000      0.764375   0.010247          0.061300     0.282270  ...   \n",
       "1       0.000000      0.764626   0.010425          0.061711     0.282342  ...   \n",
       "2       0.000000      0.764751   0.010425          0.061754     0.282256  ...   \n",
       "3       0.000730      0.766587   0.011724          0.064445     0.282355  ...   \n",
       "4       0.000332      0.774045   0.016519          0.079077     0.282305  ...   \n",
       "\n",
       "   winddir_d1_wvt  winddir_sd1_wvt  bp_mb_avg   uva_avg   uvb_avg  Month  Day  \\\n",
       "0        0.000000         0.748538   0.106834  0.008796  0.074619      3   16   \n",
       "1        0.000000         0.748538   0.106678  0.008796  0.074433      3   16   \n",
       "2        0.000000         0.748538   0.105712  0.008642  0.074248      3   16   \n",
       "3        0.005905         0.764025   0.107146  0.008488  0.074248      3   16   \n",
       "4        0.000000         0.748538   0.106023  0.008951  0.074248      3   16   \n",
       "\n",
       "   Hour  Minute  measured_t  \n",
       "0     7      17    0.621711  \n",
       "1     7      18    0.631579  \n",
       "2     7      19    0.644737  \n",
       "3     7      27    0.628289  \n",
       "4     7      33    0.611842  \n",
       "\n",
       "[5 rows x 23 columns]"
      ]
     },
     "execution_count": 27,
     "metadata": {},
     "output_type": "execute_result"
    }
   ],
   "source": [
    "train.head()"
   ]
  },
  {
   "cell_type": "code",
   "execution_count": 20,
   "id": "e46f2948",
   "metadata": {},
   "outputs": [],
   "source": [
    "def create_sequences(data, seq_length):\n",
    "    xs = []\n",
    "    ys = []\n",
    "    for i in range(len(data)-seq_length):\n",
    "        x = data.iloc[i:(i+seq_length), :-1].values\n",
    "        y = data.iloc[i+seq_length, -1]\n",
    "        xs.append(x)\n",
    "        ys.append(y)\n",
    "    return np.array(xs), np.array(ys)"
   ]
  },
  {
   "cell_type": "code",
   "execution_count": 28,
   "id": "ffa1adba",
   "metadata": {},
   "outputs": [],
   "source": [
    "seq_length = 10\n",
    "X_train, y_train = create_sequences(train, seq_length)\n",
    "X_test, y_test = create_sequences(test, seq_length)\n",
    "X_val, y_val = create_sequences(val, seq_length)"
   ]
  },
  {
   "cell_type": "code",
   "execution_count": 39,
   "id": "b96dde2a",
   "metadata": {},
   "outputs": [],
   "source": [
    "class RNN(nn.Module):\n",
    "    def __init__(self, input_size, hidden_size, num_layers, output_size):\n",
    "        super(RNN, self).__init__()\n",
    "        self.hidden_size = hidden_size\n",
    "        self.num_layers = num_layers\n",
    "        self.rnn = nn.RNN(input_size, hidden_size, num_layers, batch_first=True)\n",
    "        self.fc = nn.Linear(hidden_size, output_size)\n",
    "    \n",
    "    def forward(self, x):\n",
    "        h0 = torch.zeros(self.num_layers, x.size(0), self.hidden_size).to(device)\n",
    "        out, _ = self.rnn(x, h0)\n",
    "        out = self.fc(out[:, -1, :])\n",
    "        return out"
   ]
  },
  {
   "cell_type": "code",
   "execution_count": 43,
   "id": "6fb339c0",
   "metadata": {},
   "outputs": [],
   "source": [
    "# Hyperparameters\n",
    "input_size = X_train.shape[2]\n",
    "hidden_size = 50\n",
    "num_layers = 2\n",
    "output_size = 1\n",
    "num_epochs = 10\n",
    "batch_size = 32\n",
    "learning_rate = 0.001"
   ]
  },
  {
   "cell_type": "code",
   "execution_count": 41,
   "id": "aea5ae40",
   "metadata": {},
   "outputs": [],
   "source": [
    "# Create DataLoader\n",
    "train_dataset = TensorDataset(torch.tensor(X_train, dtype=torch.float32), torch.tensor(y_train, dtype=torch.float32))\n",
    "train_loader = DataLoader(train_dataset, batch_size=batch_size, shuffle=True)"
   ]
  },
  {
   "cell_type": "code",
   "execution_count": 42,
   "id": "7edcbc94",
   "metadata": {},
   "outputs": [],
   "source": [
    "# Initialize the model, loss function and optimizer\n",
    "device = torch.device('cpu')\n",
    "model = RNN(input_size, hidden_size, num_layers, output_size).to(device)\n",
    "criterion = nn.L1Loss()\n",
    "optimizer = torch.optim.Adam(model.parameters(), lr=learning_rate)"
   ]
  },
  {
   "cell_type": "code",
   "execution_count": 44,
   "id": "a6ec0d77",
   "metadata": {},
   "outputs": [
    {
     "name": "stderr",
     "output_type": "stream",
     "text": [
      "/Users/Sruthi/anaconda3/lib/python3.7/site-packages/torch/nn/modules/loss.py:101: UserWarning: Using a target size (torch.Size([32])) that is different to the input size (torch.Size([32, 1])). This will likely lead to incorrect results due to broadcasting. Please ensure they have the same size.\n",
      "  return F.l1_loss(input, target, reduction=self.reduction)\n",
      "/Users/Sruthi/anaconda3/lib/python3.7/site-packages/torch/nn/modules/loss.py:101: UserWarning: Using a target size (torch.Size([25])) that is different to the input size (torch.Size([25, 1])). This will likely lead to incorrect results due to broadcasting. Please ensure they have the same size.\n",
      "  return F.l1_loss(input, target, reduction=self.reduction)\n"
     ]
    },
    {
     "name": "stdout",
     "output_type": "stream",
     "text": [
      "Epoch [1/10], Loss: 0.0781\n",
      "Epoch [2/10], Loss: 0.0897\n",
      "Epoch [3/10], Loss: 0.0827\n",
      "Epoch [4/10], Loss: 0.1031\n",
      "Epoch [5/10], Loss: 0.1138\n",
      "Epoch [6/10], Loss: 0.0971\n",
      "Epoch [7/10], Loss: 0.0655\n",
      "Epoch [8/10], Loss: 0.0885\n",
      "Epoch [9/10], Loss: 0.0892\n",
      "Epoch [10/10], Loss: 0.0737\n"
     ]
    }
   ],
   "source": [
    "for epoch in range(num_epochs):\n",
    "    for inputs, labels in train_loader:\n",
    "        inputs, labels = inputs.to(device), labels.to(device)\n",
    "        outputs = model(inputs)\n",
    "        loss = criterion(outputs, labels)\n",
    "        \n",
    "        optimizer.zero_grad()\n",
    "        loss.backward()\n",
    "        optimizer.step()    \n",
    "\n",
    "    print(f'Epoch [{epoch+1}/{num_epochs}], Loss: {loss.item():.4f}')"
   ]
  },
  {
   "cell_type": "code",
   "execution_count": 45,
   "id": "6be66e81",
   "metadata": {},
   "outputs": [],
   "source": [
    "X_val_tensor = torch.tensor(X_val, dtype=torch.float32).to(device)\n",
    "y_val_tensor = torch.tensor(y_val, dtype=torch.float32).to(device)"
   ]
  },
  {
   "cell_type": "code",
   "execution_count": 46,
   "id": "1cc18b98",
   "metadata": {},
   "outputs": [],
   "source": [
    "model.eval()\n",
    "with torch.no_grad():\n",
    "    predictions = model(X_val_tensor).cpu().numpy()"
   ]
  },
  {
   "cell_type": "code",
   "execution_count": 51,
   "id": "0e8632c1",
   "metadata": {},
   "outputs": [
    {
     "data": {
      "text/plain": [
       "0.09416625202758691"
      ]
     },
     "execution_count": 51,
     "metadata": {},
     "output_type": "execute_result"
    }
   ],
   "source": [
    "np.mean(np.abs(predictions - y_val_tensor))"
   ]
  },
  {
   "cell_type": "code",
   "execution_count": null,
   "id": "cdd09115",
   "metadata": {},
   "outputs": [],
   "source": []
  }
 ],
 "metadata": {
  "kernelspec": {
   "display_name": "Python 3 (ipykernel)",
   "language": "python",
   "name": "python3"
  },
  "language_info": {
   "codemirror_mode": {
    "name": "ipython",
    "version": 3
   },
   "file_extension": ".py",
   "mimetype": "text/x-python",
   "name": "python",
   "nbconvert_exporter": "python",
   "pygments_lexer": "ipython3",
   "version": "3.7.13"
  }
 },
 "nbformat": 4,
 "nbformat_minor": 5
}
